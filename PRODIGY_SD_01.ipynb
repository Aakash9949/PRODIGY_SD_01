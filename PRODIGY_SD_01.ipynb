{
  "nbformat": 4,
  "nbformat_minor": 0,
  "metadata": {
    "colab": {
      "provenance": []
    },
    "kernelspec": {
      "name": "python3",
      "display_name": "Python 3"
    },
    "language_info": {
      "name": "python"
    }
  },
  "cells": [
    {
      "cell_type": "code",
      "execution_count": 1,
      "metadata": {
        "colab": {
          "base_uri": "https://localhost:8080/"
        },
        "id": "3iEKCyjwKIOH",
        "outputId": "dbf27bf0-e94f-4f14-a943-144b5a63a3ec"
      },
      "outputs": [
        {
          "output_type": "stream",
          "name": "stdout",
          "text": [
            "Enter the temperature value: 95\n",
            "Enter the unit (C for Celsius, F for Fahrenheit, K for Kelvin): F\n",
            "\n",
            "95.0°F is equal to:\n",
            "35.00°C\n",
            "308.15K\n"
          ]
        }
      ],
      "source": [
        "def celsius_to_fahrenheit(c):\n",
        "    return (c * 9/5) + 32\n",
        "\n",
        "def celsius_to_kelvin(c):\n",
        "    return c + 273.15\n",
        "\n",
        "def fahrenheit_to_celsius(f):\n",
        "    return (f - 32) * 5/9\n",
        "\n",
        "def fahrenheit_to_kelvin(f):\n",
        "    return (f - 32) * 5/9 + 273.15\n",
        "\n",
        "def kelvin_to_celsius(k):\n",
        "    return k - 273.15\n",
        "\n",
        "def kelvin_to_fahrenheit(k):\n",
        "    return (k - 273.15) * 9/5 + 32\n",
        "\n",
        "def convert_temperature(value, unit):\n",
        "    unit = unit.lower()\n",
        "    if unit == \"c\" or unit == \"celsius\":\n",
        "        f = celsius_to_fahrenheit(value)\n",
        "        k = celsius_to_kelvin(value)\n",
        "        print(f\"\\n{value}°C is equal to:\")\n",
        "        print(f\"{f:.2f}°F\")\n",
        "        print(f\"{k:.2f}K\")\n",
        "    elif unit == \"f\" or unit == \"fahrenheit\":\n",
        "        c = fahrenheit_to_celsius(value)\n",
        "        k = fahrenheit_to_kelvin(value)\n",
        "        print(f\"\\n{value}°F is equal to:\")\n",
        "        print(f\"{c:.2f}°C\")\n",
        "        print(f\"{k:.2f}K\")\n",
        "    elif unit == \"k\" or unit == \"kelvin\":\n",
        "        c = kelvin_to_celsius(value)\n",
        "        f = kelvin_to_fahrenheit(value)\n",
        "        print(f\"\\n{value}K is equal to:\")\n",
        "        print(f\"{c:.2f}°C\")\n",
        "        print(f\"{f:.2f}°F\")\n",
        "    else:\n",
        "        print(\"Invalid unit. Please enter 'C', 'F', or 'K'.\")\n",
        "\n",
        "try:\n",
        "    temperature = float(input(\"Enter the temperature value: \"))\n",
        "    unit = input(\"Enter the unit (C for Celsius, F for Fahrenheit, K for Kelvin): \")\n",
        "    convert_temperature(temperature, unit)\n",
        "except ValueError:\n",
        "    print(\"Invalid input. Please enter a numerical temperature.\")"
      ]
    }
  ]
}